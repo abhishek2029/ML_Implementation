{
 "cells": [
  {
   "cell_type": "code",
   "execution_count": 1,
   "metadata": {},
   "outputs": [],
   "source": [
    "# Part I - Importing Libraries\n",
    "import numpy as np\n",
    "import pandas as pd\n",
    "import tensorflow as tf"
   ]
  },
  {
   "cell_type": "code",
   "execution_count": 2,
   "metadata": {},
   "outputs": [],
   "source": [
    "# Part II - Data Preprocessing\n",
    "#Importing library\n",
    "db = pd.read_csv('Churn_Modelling.csv')\n",
    "X = db.iloc[:, 3:-1].values\n",
    "y = db.iloc[:, -1].values"
   ]
  },
  {
   "cell_type": "code",
   "execution_count": 3,
   "metadata": {},
   "outputs": [
    {
     "name": "stdout",
     "output_type": "stream",
     "text": [
      "[[619 'France' 'Female' ... 1 1 101348.88]\n",
      " [608 'Spain' 'Female' ... 0 1 112542.58]\n",
      " [502 'France' 'Female' ... 1 0 113931.57]\n",
      " ...\n",
      " [709 'France' 'Female' ... 0 1 42085.58]\n",
      " [772 'Germany' 'Male' ... 1 0 92888.52]\n",
      " [792 'France' 'Female' ... 1 0 38190.78]]\n"
     ]
    }
   ],
   "source": [
    "print(X)"
   ]
  },
  {
   "cell_type": "code",
   "execution_count": 4,
   "metadata": {},
   "outputs": [
    {
     "name": "stdout",
     "output_type": "stream",
     "text": [
      "[1 0 1 ... 1 1 0]\n"
     ]
    }
   ],
   "source": [
    "print(y)"
   ]
  },
  {
   "cell_type": "code",
   "execution_count": 5,
   "metadata": {},
   "outputs": [],
   "source": [
    "#Encoding categorical data - on gender column\n",
    "from sklearn.preprocessing import LabelEncoder\n",
    "le = LabelEncoder()\n",
    "X[:, 2] = le.fit_transform(X[:, 2])"
   ]
  },
  {
   "cell_type": "code",
   "execution_count": 6,
   "metadata": {},
   "outputs": [],
   "source": [
    "#OneHotEncoding on geography column\n",
    "from sklearn.compose import ColumnTransformer\n",
    "from sklearn.preprocessing import OneHotEncoder\n",
    "ct = ColumnTransformer(transformers=[('encoder', OneHotEncoder(), [1])], remainder = 'passthrough')\n",
    "X = np.array(ct.fit_transform(X))"
   ]
  },
  {
   "cell_type": "code",
   "execution_count": 7,
   "metadata": {},
   "outputs": [
    {
     "name": "stdout",
     "output_type": "stream",
     "text": [
      "[[1.0 0.0 0.0 ... 1 1 101348.88]\n",
      " [0.0 0.0 1.0 ... 0 1 112542.58]\n",
      " [1.0 0.0 0.0 ... 1 0 113931.57]\n",
      " ...\n",
      " [1.0 0.0 0.0 ... 0 1 42085.58]\n",
      " [0.0 1.0 0.0 ... 1 0 92888.52]\n",
      " [1.0 0.0 0.0 ... 1 0 38190.78]]\n"
     ]
    }
   ],
   "source": [
    "print(X)"
   ]
  },
  {
   "cell_type": "code",
   "execution_count": 8,
   "metadata": {},
   "outputs": [],
   "source": [
    "#Splitting the dataset into train and test set\n",
    "\n",
    "from sklearn.model_selection import train_test_split\n",
    "X_train, X_test, y_train, y_test = train_test_split(X, y, test_size = 0.25, random_state = 0)"
   ]
  },
  {
   "cell_type": "code",
   "execution_count": 9,
   "metadata": {},
   "outputs": [],
   "source": [
    "#Feature SCaling\n",
    "\n",
    "from sklearn.preprocessing import StandardScaler\n",
    "sc = StandardScaler()\n",
    "X_train = sc.fit_transform(X_train)\n",
    "X_test = sc.transform(X_test)"
   ]
  },
  {
   "cell_type": "code",
   "execution_count": 10,
   "metadata": {},
   "outputs": [],
   "source": [
    "# Part III - BUilding your ANN\n",
    "\n",
    "ann = tf.keras.models.Sequential()"
   ]
  },
  {
   "cell_type": "code",
   "execution_count": 11,
   "metadata": {},
   "outputs": [],
   "source": [
    "#adding the input layer and hidden layer\n",
    "\n",
    "ann.add(tf.keras.layers.Dense(units=6, activation='relu'))"
   ]
  },
  {
   "cell_type": "code",
   "execution_count": 12,
   "metadata": {},
   "outputs": [],
   "source": [
    "#Another hidden layer\n",
    "\n",
    "ann.add(tf.keras.layers.Dense(units=6, activation='relu'))"
   ]
  },
  {
   "cell_type": "code",
   "execution_count": 13,
   "metadata": {},
   "outputs": [],
   "source": [
    "#Add ouput layer\n",
    "\n",
    "ann.add(tf.keras.layers.Dense(units=1, activation='sigmoid'))"
   ]
  },
  {
   "cell_type": "code",
   "execution_count": 14,
   "metadata": {},
   "outputs": [],
   "source": [
    "# Part IV - Training the ANN\n",
    "#Compilation of ANN using optimizer\n",
    "\n",
    "ann.compile(optimizer = 'RMSprop' , loss = 'binary_crossentropy' , metrics = ['accuracy'])"
   ]
  },
  {
   "cell_type": "code",
   "execution_count": 15,
   "metadata": {},
   "outputs": [
    {
     "name": "stdout",
     "output_type": "stream",
     "text": [
      "Epoch 1/100\n",
      "235/235 [==============================] - 2s 7ms/step - loss: 0.5103 - accuracy: 0.7963\n",
      "Epoch 2/100\n",
      "235/235 [==============================] - 1s 6ms/step - loss: 0.4782 - accuracy: 0.7963\n",
      "Epoch 3/100\n",
      "235/235 [==============================] - 1s 6ms/step - loss: 0.4588 - accuracy: 0.7963\n",
      "Epoch 4/100\n",
      "235/235 [==============================] - 2s 7ms/step - loss: 0.4450 - accuracy: 0.7963\n",
      "Epoch 5/100\n",
      "235/235 [==============================] - 2s 7ms/step - loss: 0.4367 - accuracy: 0.7963\n",
      "Epoch 6/100\n",
      "235/235 [==============================] - 2s 8ms/step - loss: 0.4325 - accuracy: 0.7963\n",
      "Epoch 7/100\n",
      "235/235 [==============================] - 2s 8ms/step - loss: 0.4299 - accuracy: 0.8051\n",
      "Epoch 8/100\n",
      "235/235 [==============================] - 2s 7ms/step - loss: 0.4281 - accuracy: 0.8124\n",
      "Epoch 9/100\n",
      "235/235 [==============================] - 2s 8ms/step - loss: 0.4264 - accuracy: 0.8139\n",
      "Epoch 10/100\n",
      "235/235 [==============================] - 2s 9ms/step - loss: 0.4251 - accuracy: 0.8149\n",
      "Epoch 11/100\n",
      "235/235 [==============================] - 2s 9ms/step - loss: 0.4234 - accuracy: 0.8185\n",
      "Epoch 12/100\n",
      "235/235 [==============================] - 3s 13ms/step - loss: 0.4218 - accuracy: 0.8192\n",
      "Epoch 13/100\n",
      "235/235 [==============================] - 3s 12ms/step - loss: 0.4203 - accuracy: 0.8208\n",
      "Epoch 14/100\n",
      "235/235 [==============================] - 3s 11ms/step - loss: 0.4186 - accuracy: 0.8233\n",
      "Epoch 15/100\n",
      "235/235 [==============================] - 3s 11ms/step - loss: 0.4171 - accuracy: 0.8244\n",
      "Epoch 16/100\n",
      "235/235 [==============================] - 3s 11ms/step - loss: 0.4152 - accuracy: 0.8265\n",
      "Epoch 17/100\n",
      "235/235 [==============================] - 2s 10ms/step - loss: 0.4136 - accuracy: 0.8285\n",
      "Epoch 18/100\n",
      "235/235 [==============================] - 3s 12ms/step - loss: 0.4120 - accuracy: 0.8288\n",
      "Epoch 19/100\n",
      "235/235 [==============================] - 2s 10ms/step - loss: 0.4105 - accuracy: 0.8315\n",
      "Epoch 20/100\n",
      "235/235 [==============================] - 2s 11ms/step - loss: 0.4093 - accuracy: 0.8331\n",
      "Epoch 21/100\n",
      "235/235 [==============================] - 3s 11ms/step - loss: 0.4080 - accuracy: 0.8325\n",
      "Epoch 22/100\n",
      "235/235 [==============================] - 2s 9ms/step - loss: 0.4066 - accuracy: 0.8344\n",
      "Epoch 23/100\n",
      "235/235 [==============================] - 3s 13ms/step - loss: 0.4054 - accuracy: 0.8356\n",
      "Epoch 24/100\n",
      "235/235 [==============================] - 2s 10ms/step - loss: 0.4044 - accuracy: 0.8345\n",
      "Epoch 25/100\n",
      "235/235 [==============================] - 2s 10ms/step - loss: 0.4036 - accuracy: 0.8357\n",
      "Epoch 26/100\n",
      "235/235 [==============================] - 3s 11ms/step - loss: 0.4027 - accuracy: 0.8355\n",
      "Epoch 27/100\n",
      "235/235 [==============================] - 2s 10ms/step - loss: 0.4017 - accuracy: 0.8364\n",
      "Epoch 28/100\n",
      "235/235 [==============================] - 3s 12ms/step - loss: 0.4008 - accuracy: 0.8371\n",
      "Epoch 29/100\n",
      "235/235 [==============================] - 3s 13ms/step - loss: 0.4000 - accuracy: 0.8364\n",
      "Epoch 30/100\n",
      "235/235 [==============================] - 2s 11ms/step - loss: 0.3992 - accuracy: 0.8373\n",
      "Epoch 31/100\n",
      "235/235 [==============================] - 2s 9ms/step - loss: 0.3978 - accuracy: 0.8359\n",
      "Epoch 32/100\n",
      "235/235 [==============================] - 2s 10ms/step - loss: 0.3974 - accuracy: 0.8384\n",
      "Epoch 33/100\n",
      "235/235 [==============================] - 2s 9ms/step - loss: 0.3966 - accuracy: 0.8381\n",
      "Epoch 34/100\n",
      "235/235 [==============================] - 2s 8ms/step - loss: 0.3960 - accuracy: 0.8383\n",
      "Epoch 35/100\n",
      "235/235 [==============================] - 3s 11ms/step - loss: 0.3951 - accuracy: 0.8375\n",
      "Epoch 36/100\n",
      "235/235 [==============================] - 2s 9ms/step - loss: 0.3937 - accuracy: 0.8381\n",
      "Epoch 37/100\n",
      "235/235 [==============================] - 2s 8ms/step - loss: 0.3933 - accuracy: 0.8375\n",
      "Epoch 38/100\n",
      "235/235 [==============================] - 2s 9ms/step - loss: 0.3922 - accuracy: 0.8387\n",
      "Epoch 39/100\n",
      "235/235 [==============================] - 2s 9ms/step - loss: 0.3908 - accuracy: 0.8383\n",
      "Epoch 40/100\n",
      "235/235 [==============================] - 2s 9ms/step - loss: 0.3895 - accuracy: 0.8372: 0s - l\n",
      "Epoch 41/100\n",
      "235/235 [==============================] - 2s 9ms/step - loss: 0.3879 - accuracy: 0.8400\n",
      "Epoch 42/100\n",
      "235/235 [==============================] - 3s 13ms/step - loss: 0.3858 - accuracy: 0.8401\n",
      "Epoch 43/100\n",
      "235/235 [==============================] - 3s 14ms/step - loss: 0.3835 - accuracy: 0.8399\n",
      "Epoch 44/100\n",
      "235/235 [==============================] - 3s 14ms/step - loss: 0.3803 - accuracy: 0.8419\n",
      "Epoch 45/100\n",
      "235/235 [==============================] - 3s 14ms/step - loss: 0.3762 - accuracy: 0.8437\n",
      "Epoch 46/100\n",
      "235/235 [==============================] - 3s 14ms/step - loss: 0.3715 - accuracy: 0.8453\n",
      "Epoch 47/100\n",
      "235/235 [==============================] - 3s 13ms/step - loss: 0.3656 - accuracy: 0.8501\n",
      "Epoch 48/100\n",
      "235/235 [==============================] - 2s 10ms/step - loss: 0.3601 - accuracy: 0.8517\n",
      "Epoch 49/100\n",
      "235/235 [==============================] - 3s 11ms/step - loss: 0.3552 - accuracy: 0.8551\n",
      "Epoch 50/100\n",
      "235/235 [==============================] - 3s 11ms/step - loss: 0.3506 - accuracy: 0.8555\n",
      "Epoch 51/100\n",
      "235/235 [==============================] - 3s 12ms/step - loss: 0.3476 - accuracy: 0.8573\n",
      "Epoch 52/100\n",
      "235/235 [==============================] - 3s 15ms/step - loss: 0.3449 - accuracy: 0.8580\n",
      "Epoch 53/100\n",
      "235/235 [==============================] - 3s 14ms/step - loss: 0.3429 - accuracy: 0.8592\n",
      "Epoch 54/100\n",
      "235/235 [==============================] - 3s 14ms/step - loss: 0.3414 - accuracy: 0.8585\n",
      "Epoch 55/100\n",
      "235/235 [==============================] - 3s 11ms/step - loss: 0.3405 - accuracy: 0.8611\n",
      "Epoch 56/100\n",
      "235/235 [==============================] - 2s 8ms/step - loss: 0.3397 - accuracy: 0.8609\n",
      "Epoch 57/100\n",
      "235/235 [==============================] - 2s 7ms/step - loss: 0.3390 - accuracy: 0.8611\n",
      "Epoch 58/100\n",
      "235/235 [==============================] - 1s 6ms/step - loss: 0.3385 - accuracy: 0.8611\n",
      "Epoch 59/100\n",
      "235/235 [==============================] - 2s 7ms/step - loss: 0.3386 - accuracy: 0.8615\n",
      "Epoch 60/100\n",
      "235/235 [==============================] - 1s 6ms/step - loss: 0.3385 - accuracy: 0.8620\n",
      "Epoch 61/100\n",
      "235/235 [==============================] - 1s 6ms/step - loss: 0.3383 - accuracy: 0.8613\n",
      "Epoch 62/100\n",
      "235/235 [==============================] - 3s 11ms/step - loss: 0.3381 - accuracy: 0.8619\n",
      "Epoch 63/100\n",
      "235/235 [==============================] - 2s 7ms/step - loss: 0.3381 - accuracy: 0.8620\n",
      "Epoch 64/100\n",
      "235/235 [==============================] - 3s 11ms/step - loss: 0.3378 - accuracy: 0.8621\n",
      "Epoch 65/100\n",
      "235/235 [==============================] - 3s 11ms/step - loss: 0.3374 - accuracy: 0.8631\n",
      "Epoch 66/100\n",
      "235/235 [==============================] - 2s 9ms/step - loss: 0.3375 - accuracy: 0.8615\n",
      "Epoch 67/100\n",
      "235/235 [==============================] - 2s 7ms/step - loss: 0.3371 - accuracy: 0.8633\n",
      "Epoch 68/100\n",
      "235/235 [==============================] - 2s 7ms/step - loss: 0.3371 - accuracy: 0.8609\n",
      "Epoch 69/100\n",
      "235/235 [==============================] - 3s 11ms/step - loss: 0.3369 - accuracy: 0.8621\n",
      "Epoch 70/100\n",
      "235/235 [==============================] - 2s 9ms/step - loss: 0.3369 - accuracy: 0.8624\n",
      "Epoch 71/100\n",
      "235/235 [==============================] - 1s 6ms/step - loss: 0.3367 - accuracy: 0.8623\n",
      "Epoch 72/100\n",
      "235/235 [==============================] - 1s 5ms/step - loss: 0.3365 - accuracy: 0.8640\n",
      "Epoch 73/100\n",
      "235/235 [==============================] - 1s 6ms/step - loss: 0.3367 - accuracy: 0.8620\n",
      "Epoch 74/100\n",
      "235/235 [==============================] - 4s 15ms/step - loss: 0.3366 - accuracy: 0.8629\n",
      "Epoch 75/100\n",
      "235/235 [==============================] - 3s 11ms/step - loss: 0.3366 - accuracy: 0.8635\n",
      "Epoch 76/100\n",
      "235/235 [==============================] - 1s 5ms/step - loss: 0.3365 - accuracy: 0.8639\n",
      "Epoch 77/100\n",
      "235/235 [==============================] - 1s 5ms/step - loss: 0.3359 - accuracy: 0.8639\n",
      "Epoch 78/100\n",
      "235/235 [==============================] - 1s 5ms/step - loss: 0.3360 - accuracy: 0.8627\n",
      "Epoch 79/100\n",
      "235/235 [==============================] - 1s 6ms/step - loss: 0.3362 - accuracy: 0.8633\n",
      "Epoch 80/100\n"
     ]
    },
    {
     "name": "stdout",
     "output_type": "stream",
     "text": [
      "235/235 [==============================] - 1s 5ms/step - loss: 0.3360 - accuracy: 0.8627\n",
      "Epoch 81/100\n",
      "235/235 [==============================] - 1s 5ms/step - loss: 0.3359 - accuracy: 0.8639\n",
      "Epoch 82/100\n",
      "235/235 [==============================] - 2s 10ms/step - loss: 0.3358 - accuracy: 0.8647\n",
      "Epoch 83/100\n",
      "235/235 [==============================] - 2s 8ms/step - loss: 0.3357 - accuracy: 0.8635\n",
      "Epoch 84/100\n",
      "235/235 [==============================] - 2s 8ms/step - loss: 0.3356 - accuracy: 0.8651\n",
      "Epoch 85/100\n",
      "235/235 [==============================] - 2s 10ms/step - loss: 0.3352 - accuracy: 0.8629\n",
      "Epoch 86/100\n",
      "235/235 [==============================] - 2s 9ms/step - loss: 0.3354 - accuracy: 0.8628\n",
      "Epoch 87/100\n",
      "235/235 [==============================] - 2s 8ms/step - loss: 0.3355 - accuracy: 0.8629\n",
      "Epoch 88/100\n",
      "235/235 [==============================] - 2s 8ms/step - loss: 0.3355 - accuracy: 0.8643\n",
      "Epoch 89/100\n",
      "235/235 [==============================] - 2s 8ms/step - loss: 0.3352 - accuracy: 0.8639\n",
      "Epoch 90/100\n",
      "235/235 [==============================] - 2s 9ms/step - loss: 0.3351 - accuracy: 0.8639\n",
      "Epoch 91/100\n",
      "235/235 [==============================] - 2s 11ms/step - loss: 0.3348 - accuracy: 0.8649\n",
      "Epoch 92/100\n",
      "235/235 [==============================] - 3s 11ms/step - loss: 0.3347 - accuracy: 0.8655\n",
      "Epoch 93/100\n",
      "235/235 [==============================] - 2s 11ms/step - loss: 0.3351 - accuracy: 0.8645\n",
      "Epoch 94/100\n",
      "235/235 [==============================] - 2s 9ms/step - loss: 0.3347 - accuracy: 0.8645\n",
      "Epoch 95/100\n",
      "235/235 [==============================] - 2s 9ms/step - loss: 0.3344 - accuracy: 0.8648: 0s - loss: 0.3355 - accuracy: \n",
      "Epoch 96/100\n",
      "235/235 [==============================] - 3s 13ms/step - loss: 0.3341 - accuracy: 0.8643\n",
      "Epoch 97/100\n",
      "235/235 [==============================] - 4s 15ms/step - loss: 0.3345 - accuracy: 0.8649\n",
      "Epoch 98/100\n",
      "235/235 [==============================] - 3s 14ms/step - loss: 0.3344 - accuracy: 0.8641\n",
      "Epoch 99/100\n",
      "235/235 [==============================] - 3s 13ms/step - loss: 0.3343 - accuracy: 0.8645\n",
      "Epoch 100/100\n",
      "235/235 [==============================] - 3s 13ms/step - loss: 0.3342 - accuracy: 0.8635\n"
     ]
    },
    {
     "data": {
      "text/plain": [
       "<tensorflow.python.keras.callbacks.History at 0x7f17bc03f590>"
      ]
     },
     "execution_count": 15,
     "metadata": {},
     "output_type": "execute_result"
    }
   ],
   "source": [
    "#training the ann\n",
    "\n",
    "ann.fit(X_train, y_train, batch_size = 32, epochs = 100)"
   ]
  },
  {
   "cell_type": "code",
   "execution_count": 16,
   "metadata": {},
   "outputs": [
    {
     "name": "stdout",
     "output_type": "stream",
     "text": [
      "[[False]]\n"
     ]
    }
   ],
   "source": [
    "#Predicting the result for one observation \n",
    "# Selected observation - France, credit_score = 600, gender is male, age=40, tenure=3, balance=60k we select that row.\n",
    "\n",
    "print(ann.predict(sc.transform([[1, 0, 0, 600, 1, 40, 3, 60000, 2, 1, 1, 50000]])) > 0.5) \n",
    "\n",
    "#the probability that the given customer leaves is 19%.\n",
    "\n",
    "#remove '>0.5' to get the probability value. False here depicts that the customer won't leave."
   ]
  },
  {
   "cell_type": "code",
   "execution_count": 17,
   "metadata": {},
   "outputs": [
    {
     "name": "stdout",
     "output_type": "stream",
     "text": [
      "[[0 0]\n",
      " [0 1]\n",
      " [0 0]\n",
      " ...\n",
      " [0 0]\n",
      " [0 0]\n",
      " [0 0]]\n"
     ]
    }
   ],
   "source": [
    "#Predicting the test results\n",
    "y_prediction = ann.predict(X_test)\n",
    "y_prediction = (y_prediction > 0.5)\n",
    "print(np.concatenate((y_prediction.reshape(len(y_prediction),1), y_test.reshape(len(y_test),1)),1))"
   ]
  },
  {
   "cell_type": "code",
   "execution_count": 18,
   "metadata": {},
   "outputs": [
    {
     "name": "stdout",
     "output_type": "stream",
     "text": [
      "[[1902   89]\n",
      " [ 251  258]]\n"
     ]
    },
    {
     "data": {
      "text/plain": [
       "0.864"
      ]
     },
     "execution_count": 18,
     "metadata": {},
     "output_type": "execute_result"
    }
   ],
   "source": [
    "#Making confusion matrix\n",
    "from sklearn.metrics import confusion_matrix, accuracy_score\n",
    "cm = confusion_matrix(y_test, y_prediction)\n",
    "print(cm)\n",
    "accuracy_score(y_test, y_prediction)"
   ]
  }
 ],
 "metadata": {
  "kernelspec": {
   "display_name": "Python 3",
   "language": "python",
   "name": "python3"
  },
  "language_info": {
   "codemirror_mode": {
    "name": "ipython",
    "version": 3
   },
   "file_extension": ".py",
   "mimetype": "text/x-python",
   "name": "python",
   "nbconvert_exporter": "python",
   "pygments_lexer": "ipython3",
   "version": "3.7.6"
  }
 },
 "nbformat": 4,
 "nbformat_minor": 4
}
